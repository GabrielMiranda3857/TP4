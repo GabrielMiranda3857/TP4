{
  "nbformat": 4,
  "nbformat_minor": 0,
  "metadata": {
    "colab": {
      "name": "Cópia de Valgrind Simulador de Cache.ipynb",
      "provenance": [],
      "collapsed_sections": [],
      "include_colab_link": true
    },
    "kernelspec": {
      "name": "python3",
      "display_name": "Python 3"
    }
  },
  "cells": [
    {
      "cell_type": "markdown",
      "metadata": {
        "id": "view-in-github",
        "colab_type": "text"
      },
      "source": [
        "<a href=\"https://colab.research.google.com/github/GabrielMiranda3857/TP4/blob/main/C%C3%B3pia_de_Valgrind_Simulador_de_Cache.ipynb\" target=\"_parent\"><img src=\"https://colab.research.google.com/assets/colab-badge.svg\" alt=\"Open In Colab\"/></a>"
      ]
    },
    {
      "cell_type": "markdown",
      "metadata": {
        "id": "RAQEhS3SxSRw"
      },
      "source": [
        "# Valgrind e  Simulação de Cache: **Cachegrind**\n"
      ]
    },
    {
      "cell_type": "code",
      "metadata": {
        "id": "5fs_9AKIPUbV"
      },
      "source": [
        "from google.colab import drive\n",
        "drive.mount('/content/drive')"
      ],
      "execution_count": null,
      "outputs": []
    },
    {
      "cell_type": "markdown",
      "metadata": {
        "id": "F6dL1CPWLPp6"
      },
      "source": [
        "\n",
        "\n",
        "Este laboratório apresenta o uso da ferramenta cachegrind do ambiente Valgrind, [para maiores informações consulte aqui](https://valgrind.org/docs/manual/cg-manual.html)\n",
        "\n",
        "**Importante**: \n",
        "* A primeira execução do Cachegrind irá fazer a instalação da ferramenta e pode demorar um pouco mais. \n",
        "* Os laboratorios usam uma multiplicação de matrizes como exemplo. O tamanho da matriz cresce com  $O(N^2)$ e o tempo de execução com $O(N^3)$.\n",
        "* Os exemplos estão em C. Mas o Cachegrind trabalha sobre o executável e pode ser usado em qualquer binário. \n",
        "* Fique a vontade para contribuir.\n"
      ]
    },
    {
      "cell_type": "markdown",
      "metadata": {
        "id": "m6xj7BkeMOzf"
      },
      "source": [
        "## Inicialização\n",
        "\n",
        "Primeiro, configurar o laboratório."
      ]
    },
    {
      "cell_type": "code",
      "metadata": {
        "id": "mibTjp3bOJl_",
        "colab": {
          "base_uri": "https://localhost:8080/"
        },
        "outputId": "4292d61f-1d0d-4fbb-e629-bbecf7def02e"
      },
      "source": [
        "!pip install git+git://github.com/canesche/nvcc4jupyter.git\n",
        "!git clone https://github.com/canesche/nvcc4jupyter\n",
        "%load_ext nvcc_plugin"
      ],
      "execution_count": null,
      "outputs": [
        {
          "output_type": "stream",
          "text": [
            "Collecting git+git://github.com/canesche/nvcc4jupyter.git\n",
            "  Cloning git://github.com/canesche/nvcc4jupyter.git to /tmp/pip-req-build-g7zazhoj\n",
            "  Running command git clone -q git://github.com/canesche/nvcc4jupyter.git /tmp/pip-req-build-g7zazhoj\n",
            "Building wheels for collected packages: ColabPlugin\n",
            "  Building wheel for ColabPlugin (setup.py) ... \u001b[?25l\u001b[?25hdone\n",
            "  Created wheel for ColabPlugin: filename=ColabPlugin-blind-cp36-none-any.whl size=12717 sha256=3ba5b74a1b36e2317f8c7a1a99d1ef67f60e478ead9956280bd99214f3352e88\n",
            "  Stored in directory: /tmp/pip-ephem-wheel-cache-m9_2y4wb/wheels/87/ae/09/21c6e192181a0472e20ddd1d5212e2cbb113f00ebe14330d0d\n",
            "Successfully built ColabPlugin\n",
            "Installing collected packages: ColabPlugin\n",
            "Successfully installed ColabPlugin-blind\n",
            "Cloning into 'nvcc4jupyter'...\n",
            "remote: Enumerating objects: 362, done.\u001b[K\n",
            "remote: Counting objects: 100% (362/362), done.\u001b[K\n",
            "remote: Compressing objects: 100% (271/271), done.\u001b[K\n",
            "remote: Total 1147 (delta 100), reused 328 (delta 74), pack-reused 785\u001b[K\n",
            "Receiving objects: 100% (1147/1147), 35.71 MiB | 21.05 MiB/s, done.\n",
            "Resolving deltas: 100% (554/554), done.\n"
          ],
          "name": "stdout"
        }
      ]
    },
    {
      "cell_type": "markdown",
      "metadata": {
        "id": "xza4HfVdrd7A"
      },
      "source": [
        "# Specify all cache parameters\n",
        "\n",
        "A extensão **\\%\\%cachegrind** é semelhante a linha de comando, importante que os tamanhos de cache devem ser potência de 2, a linha além de potência de 2 começa com 32 bytes. A ordem dos parametros é tamanho da cache, associatividade e tamanho da linha. Os flags para cache de dados, de instruções e de último nível são **D1**, **I1**, and **LL**, respectivamente."
      ]
    },
    {
      "cell_type": "code",
      "metadata": {
        "id": "Hi9N-yl1PuO9",
        "colab": {
          "base_uri": "https://localhost:8080/"
        },
        "outputId": "625f24c9-9352-47d3-c61c-ac68c7e02222"
      },
      "source": [
        "%%cachegrind --D1=32768,8,32 --I1=32768,2,32 --LL=65536,2,32 --file\n",
        "#include <stdio.h>\n",
        "#include <stdlib.h>\n",
        "\n",
        "int main(int argc, char const *argv[]) {\n",
        "  \n",
        "  int n = 100;\n",
        "  int a[n][n], b[n][n], c[n][n];\n",
        "  \n",
        "  for (int i = 0; i < n; ++i) {\n",
        "      for (int j = 0; j < n; ++j) {\n",
        "        a[i][j] = i + j;\n",
        "        b[i][j] = i*2 + j;   \n",
        "      }\n",
        "  }\n",
        "  \n",
        "  int temp;\n",
        "  for (int i = 0; i < n; ++i) {\n",
        "      for (int j = 0; j < n; ++j) {\n",
        "          temp = 0;\n",
        "          for (int k = 0; k < n; ++k) {\n",
        "              temp += a[i][k] * b[k][j];\n",
        "          }\n",
        "          c[i][j] = temp;   \n",
        "      }\n",
        "  } \n",
        "  return 0;\n",
        "}"
      ],
      "execution_count": null,
      "outputs": [
        {
          "output_type": "stream",
          "text": [
            "UsageError: Cell magic `%%cachegrind` not found.\n"
          ],
          "name": "stderr"
        }
      ]
    },
    {
      "cell_type": "markdown",
      "metadata": {
        "id": "JThIBQbJncuj"
      },
      "source": [
        "## Atenção aos resultados \n",
        "\n",
        "Valgrind quando simula a cache ele também simula a inicialização do sistema.\n",
        "Portanto, quando for utilizar o valgrind esteja ciente que se o seu código for muito simples será mascarado pela inicialização do sistema."
      ]
    },
    {
      "cell_type": "code",
      "metadata": {
        "colab": {
          "base_uri": "https://localhost:8080/"
        },
        "id": "A7mmbG0An4uq",
        "outputId": "a35b4c06-8247-4170-8e0f-4ffc476207f4"
      },
      "source": [
        "%%cachegrind --D1=1024,8,32 --I1=32768,2,32 --LL=65536,2,32 --file\n",
        "\n",
        "int main(int argc, char const *argv[]) {\n",
        "  //# empty code\n",
        "}"
      ],
      "execution_count": null,
      "outputs": [
        {
          "output_type": "stream",
          "text": [
            "UsageError: Cell magic `%%cachegrind` not found.\n"
          ],
          "name": "stderr"
        }
      ]
    },
    {
      "cell_type": "markdown",
      "metadata": {
        "id": "BNTJgXfCEFCc"
      },
      "source": [
        "## Exemplo de código mascarado\n",
        "\n",
        "Abaixo é apresentado um código de **transposição de matrizes** sendo mascarado pela inicialização do sistema.\n",
        "\n",
        "\n"
      ]
    },
    {
      "cell_type": "code",
      "metadata": {
        "colab": {
          "base_uri": "https://localhost:8080/"
        },
        "id": "56Gl2OmfEaZU",
        "outputId": "49d7e027-c7ca-483c-ac88-9846ed428a65"
      },
      "source": [
        "%%cachegrind --D1=1024,8,32 --I1=32768,2,32 --LL=65536,2,32 --file\n",
        "#include <stdio.h>\n",
        "#include <stdlib.h>\n",
        "\n",
        "#define n 32\n",
        "int A[n][n], B[n][n];\n",
        "\n",
        "void trans(int M, int N) { \n",
        "    int i, j, tmp;\n",
        "    for (i = 0; i < N; i++)\n",
        "        for (j = 0; j < M; j++) {\n",
        "            tmp = A[i][j];\n",
        "            B[j][i] = tmp;\n",
        "        }   \n",
        "}\n",
        "\n",
        "int main(int argc, char const *argv[]) {\n",
        "  for (int i = 0; i < n; ++i)\n",
        "    for (int j = 0; j < n; ++j)\n",
        "      A[i][j] = i + j;\n",
        "\n",
        "  trans(n, n); //# transposição de matrizes\n",
        "  return 0;\n",
        "}"
      ],
      "execution_count": null,
      "outputs": [
        {
          "output_type": "stream",
          "text": [
            "UsageError: Cell magic `%%cachegrind` not found.\n"
          ],
          "name": "stderr"
        }
      ]
    },
    {
      "cell_type": "markdown",
      "metadata": {
        "id": "t0u_02sxHkDR"
      },
      "source": [
        "## Resultados **somente inicialização X transposição de matrizes**\n",
        "\n",
        "Somente Inicialização:\n",
        "* D   refs:      1,203,059  (771,626 rd   + 431,433 wr)\n",
        "* D1  misses:      284,860  (219,936 rd   +  64,924 wr)\n",
        "\n",
        "Transposição de matrizes:\n",
        "* D   refs:      1,221,822  (787,247 rd   + 434,575 wr)\n",
        "* D1  misses:      286,147  (220,069 rd   +  66,078 wr)\n",
        "\n",
        "Note que a diferença é pequena, sendo para a cache dados L1:\n",
        "* D refs: 1221822 - 1203059 = 18763\n",
        "* D1 misses: 286147 - 284860 = 1287"
      ]
    },
    {
      "cell_type": "markdown",
      "metadata": {
        "id": "kn-uBpvwGTlV"
      },
      "source": [
        "## Solução: Mais trabalho para o algoritmo\n",
        "\n",
        "Uma solução é fazer com que o seu código der mais trabalho para cache de dados, assim a inicialização não irá mascarar os resultados.\n",
        "\n"
      ]
    },
    {
      "cell_type": "markdown",
      "metadata": {
        "id": "2i8oSwvFJNK2"
      },
      "source": [
        "### Tranposição simples"
      ]
    },
    {
      "cell_type": "code",
      "metadata": {
        "colab": {
          "base_uri": "https://localhost:8080/"
        },
        "id": "Y6a2YVJWI7k0",
        "outputId": "a4a3ec5f-1a37-4654-f227-dcce67fdfabe"
      },
      "source": [
        "%%cachegrind --D1=1024,8,32 --I1=32768,2,32 --LL=65536,2,32 --file\n",
        "#include <stdio.h>\n",
        "#include <stdlib.h>\n",
        "\n",
        "#define n 32\n",
        "int A[n][n], B[n][n];\n",
        "\n",
        "void trans(int M, int N) { \n",
        "    int i, j, tmp;\n",
        "    for (i = 0; i < N; i++)\n",
        "        for (j = 0; j < M; j++) {\n",
        "            tmp = A[i][j];\n",
        "            B[j][i] = tmp;\n",
        "        }   \n",
        "}\n",
        "\n",
        "int main(int argc, char const *argv[]) {\n",
        "  for (int i = 0; i < n; ++i)\n",
        "    for (int j = 0; j < n; ++j)\n",
        "      A[i][j] = i + j;\n",
        "      \n",
        "  for (int i; i < 2000; ++i)\n",
        "    trans(n, n); //# transposição de matrizes\n",
        "  return 0;\n",
        "}"
      ],
      "execution_count": null,
      "outputs": [
        {
          "output_type": "stream",
          "text": [
            "UsageError: Cell magic `%%cachegrind` not found.\n"
          ],
          "name": "stderr"
        }
      ]
    },
    {
      "cell_type": "code",
      "metadata": {
        "colab": {
          "base_uri": "https://localhost:8080/"
        },
        "id": "ktz55mrWJKe1",
        "outputId": "c281f955-9c6c-4582-ffea-086da3589f93"
      },
      "source": [
        "%%cachegrind --D1=1024,8,32 --I1=32768,2,32 --LL=65536,2,32 --file\n",
        "#include <stdio.h>\n",
        "#include <stdlib.h>\n",
        "\n",
        "#define n 32\n",
        "int A[n][n], B[n][n];\n",
        "\n",
        "void transpose_32_32(int M, int N) {\n",
        "    int BLOCK_SIZE, rowIndex, colIndex, blockedRowIndex, blockedColIndex, eBlockDiagl, iBlockDiagl;\n",
        "    BLOCK_SIZE = 8;        \n",
        "    for (colIndex = 0; colIndex < M; colIndex += BLOCK_SIZE) {\n",
        "        for (rowIndex = 0; rowIndex < N; rowIndex += BLOCK_SIZE) {\n",
        "            for (blockedRowIndex = rowIndex; blockedRowIndex < rowIndex + BLOCK_SIZE; ++blockedRowIndex) {\n",
        "                for (blockedColIndex = colIndex; blockedColIndex < colIndex + BLOCK_SIZE; ++blockedColIndex) {\n",
        "                    if (blockedRowIndex != blockedColIndex)\n",
        "                        B[blockedColIndex][blockedRowIndex] = A[blockedRowIndex][blockedColIndex];\n",
        "                    else {\n",
        "                        eBlockDiagl = A[blockedRowIndex][blockedColIndex];\n",
        "                        iBlockDiagl = blockedRowIndex;\n",
        "                    }\n",
        "                }\n",
        "                if (colIndex == rowIndex)\n",
        "                    B[iBlockDiagl][iBlockDiagl] = eBlockDiagl;               \n",
        "            }\n",
        "        }\n",
        "    } \n",
        "}\n",
        "\n",
        "int main(int argc, char const *argv[]) {\n",
        "  for (int i = 0; i < n; ++i)\n",
        "    for (int j = 0; j < n; ++j)\n",
        "      A[i][j] = i + j;\n",
        "  for (int i; i < 2000; ++i)\n",
        "    transpose_32_32(n, n); //# transposição de matrizes 32x32\n",
        "  return 0;\n",
        "}"
      ],
      "execution_count": null,
      "outputs": [
        {
          "output_type": "stream",
          "text": [
            "UsageError: Cell magic `%%cachegrind` not found.\n"
          ],
          "name": "stderr"
        }
      ]
    },
    {
      "cell_type": "markdown",
      "metadata": {
        "id": "Nh0VwsfOMQ2W"
      },
      "source": [
        "### Processando os dados: **Transposição simples X Transposição 32x32**\n",
        "\n",
        "Note que a cache de dados teve maiores valores na transposição 32x32:\n",
        "\n",
        "* Transposição simples: 24,144,358\n",
        "* Transposição 32x32:   29,162,358\n",
        "\n",
        "Contudo as falhas na transposição 32x32 foram menores:\n",
        "\n",
        "* Transposição simples: 10.7%\n",
        "* Transposição 32x32:   6.3%\n",
        "\n",
        "Logo, quanto menos falha na cache L1 melhor."
      ]
    },
    {
      "cell_type": "markdown",
      "metadata": {
        "id": "0jtIuYs8pM7j"
      },
      "source": [
        "# Variando o tamanho da Cache e visualizando falhas e taxa de falhas\n",
        "\n",
        "A extensão **\\%\\%rangecachegrind** executa várias vezes com tamanhos de cache especificados pela lista **datacache=(4,8,16,32)**, em Kbytes. O usuário especifica a associatividade (**ways**) e o tamanho do linha  (**line**), os gráficos são gerados de forma automática."
      ]
    },
    {
      "cell_type": "code",
      "metadata": {
        "id": "b96CrTPcOk1k",
        "colab": {
          "base_uri": "https://localhost:8080/",
          "height": 442
        },
        "outputId": "de745338-22f1-4728-f130-f95a44426dd5"
      },
      "source": [
        "%%rangecachegrind datacache=(1,2,4,8,16); ways=2; line=32; bargraph=(misses)\n",
        "\n",
        "#include <stdio.h>\n",
        "#include <stdlib.h>\n",
        "\n",
        "int main(int argc, char const *argv[]) {\n",
        "  \n",
        "  int n = 200;\n",
        "  int a[n][n], b[n][n], c[n][n];\n",
        "  \n",
        "  for (int i = 0; i < n; ++i) {\n",
        "      for (int j = 0; j < n; ++j) {\n",
        "        a[i][j] = i + j;\n",
        "        b[i][j] = i*2 + j;   \n",
        "      }\n",
        "  }\n",
        "  \n",
        "  int temp;\n",
        "  for (int i = 0; i < n; ++i) {\n",
        "      for (int j = 0; j < n; ++j) {\n",
        "          temp = 0;\n",
        "          for (int k = 0; k < n; ++k) {\n",
        "              temp += a[i][k] * b[k][j];\n",
        "          }\n",
        "          c[i][j] = temp;   \n",
        "      }\n",
        "  } \n",
        "  return 0;\n",
        "}"
      ],
      "execution_count": null,
      "outputs": [
        {
          "output_type": "stream",
          "text": [
            "\n"
          ],
          "name": "stdout"
        },
        {
          "output_type": "error",
          "ename": "KeyboardInterrupt",
          "evalue": "ignored",
          "traceback": [
            "\u001b[0;31m---------------------------------------------------------------------------\u001b[0m",
            "\u001b[0;31mKeyboardInterrupt\u001b[0m                         Traceback (most recent call last)",
            "\u001b[0;32m<ipython-input-19-dca2a7d729e7>\u001b[0m in \u001b[0;36m<module>\u001b[0;34m()\u001b[0m\n\u001b[0;32m----> 1\u001b[0;31m \u001b[0mget_ipython\u001b[0m\u001b[0;34m(\u001b[0m\u001b[0;34m)\u001b[0m\u001b[0;34m.\u001b[0m\u001b[0mrun_cell_magic\u001b[0m\u001b[0;34m(\u001b[0m\u001b[0;34m'rangecachegrind'\u001b[0m\u001b[0;34m,\u001b[0m \u001b[0;34m'datacache=(1,2,4,8,16); ways=2; line=32; bargraph=(misses)'\u001b[0m\u001b[0;34m,\u001b[0m \u001b[0;34m'\\n#include <stdio.h>\\n#include <stdlib.h>\\n\\nint main(int argc, char const *argv[]) {\\n  \\n  int n = 200;\\n  int a[n][n], b[n][n], c[n][n];\\n  \\n  for (int i = 0; i < n; ++i) {\\n      for (int j = 0; j < n; ++j) {\\n        a[i][j] = i + j;\\n        b[i][j] = i*2 + j;   \\n      }\\n  }\\n  \\n  int temp;\\n  for (int i = 0; i < n; ++i) {\\n      for (int j = 0; j < n; ++j) {\\n          temp = 0;\\n          for (int k = 0; k < n; ++k) {\\n              temp += a[i][k] * b[k][j];\\n          }\\n          c[i][j] = temp;   \\n      }\\n  } \\n  return 0;\\n}'\u001b[0m\u001b[0;34m)\u001b[0m\u001b[0;34m\u001b[0m\u001b[0;34m\u001b[0m\u001b[0m\n\u001b[0m",
            "\u001b[0;32m/usr/local/lib/python3.6/dist-packages/IPython/core/interactiveshell.py\u001b[0m in \u001b[0;36mrun_cell_magic\u001b[0;34m(self, magic_name, line, cell)\u001b[0m\n\u001b[1;32m   2115\u001b[0m             \u001b[0mmagic_arg_s\u001b[0m \u001b[0;34m=\u001b[0m \u001b[0mself\u001b[0m\u001b[0;34m.\u001b[0m\u001b[0mvar_expand\u001b[0m\u001b[0;34m(\u001b[0m\u001b[0mline\u001b[0m\u001b[0;34m,\u001b[0m \u001b[0mstack_depth\u001b[0m\u001b[0;34m)\u001b[0m\u001b[0;34m\u001b[0m\u001b[0;34m\u001b[0m\u001b[0m\n\u001b[1;32m   2116\u001b[0m             \u001b[0;32mwith\u001b[0m \u001b[0mself\u001b[0m\u001b[0;34m.\u001b[0m\u001b[0mbuiltin_trap\u001b[0m\u001b[0;34m:\u001b[0m\u001b[0;34m\u001b[0m\u001b[0;34m\u001b[0m\u001b[0m\n\u001b[0;32m-> 2117\u001b[0;31m                 \u001b[0mresult\u001b[0m \u001b[0;34m=\u001b[0m \u001b[0mfn\u001b[0m\u001b[0;34m(\u001b[0m\u001b[0mmagic_arg_s\u001b[0m\u001b[0;34m,\u001b[0m \u001b[0mcell\u001b[0m\u001b[0;34m)\u001b[0m\u001b[0;34m\u001b[0m\u001b[0;34m\u001b[0m\u001b[0m\n\u001b[0m\u001b[1;32m   2118\u001b[0m             \u001b[0;32mreturn\u001b[0m \u001b[0mresult\u001b[0m\u001b[0;34m\u001b[0m\u001b[0;34m\u001b[0m\u001b[0m\n\u001b[1;32m   2119\u001b[0m \u001b[0;34m\u001b[0m\u001b[0m\n",
            "\u001b[0;32m<decorator-gen-136>\u001b[0m in \u001b[0;36mrangecachegrind\u001b[0;34m(self, line, cell)\u001b[0m\n",
            "\u001b[0;32m/usr/local/lib/python3.6/dist-packages/IPython/core/magic.py\u001b[0m in \u001b[0;36m<lambda>\u001b[0;34m(f, *a, **k)\u001b[0m\n\u001b[1;32m    186\u001b[0m     \u001b[0;31m# but it's overkill for just that one bit of state.\u001b[0m\u001b[0;34m\u001b[0m\u001b[0;34m\u001b[0m\u001b[0;34m\u001b[0m\u001b[0m\n\u001b[1;32m    187\u001b[0m     \u001b[0;32mdef\u001b[0m \u001b[0mmagic_deco\u001b[0m\u001b[0;34m(\u001b[0m\u001b[0marg\u001b[0m\u001b[0;34m)\u001b[0m\u001b[0;34m:\u001b[0m\u001b[0;34m\u001b[0m\u001b[0;34m\u001b[0m\u001b[0m\n\u001b[0;32m--> 188\u001b[0;31m         \u001b[0mcall\u001b[0m \u001b[0;34m=\u001b[0m \u001b[0;32mlambda\u001b[0m \u001b[0mf\u001b[0m\u001b[0;34m,\u001b[0m \u001b[0;34m*\u001b[0m\u001b[0ma\u001b[0m\u001b[0;34m,\u001b[0m \u001b[0;34m**\u001b[0m\u001b[0mk\u001b[0m\u001b[0;34m:\u001b[0m \u001b[0mf\u001b[0m\u001b[0;34m(\u001b[0m\u001b[0;34m*\u001b[0m\u001b[0ma\u001b[0m\u001b[0;34m,\u001b[0m \u001b[0;34m**\u001b[0m\u001b[0mk\u001b[0m\u001b[0;34m)\u001b[0m\u001b[0;34m\u001b[0m\u001b[0;34m\u001b[0m\u001b[0m\n\u001b[0m\u001b[1;32m    189\u001b[0m \u001b[0;34m\u001b[0m\u001b[0m\n\u001b[1;32m    190\u001b[0m         \u001b[0;32mif\u001b[0m \u001b[0mcallable\u001b[0m\u001b[0;34m(\u001b[0m\u001b[0marg\u001b[0m\u001b[0;34m)\u001b[0m\u001b[0;34m:\u001b[0m\u001b[0;34m\u001b[0m\u001b[0;34m\u001b[0m\u001b[0m\n",
            "\u001b[0;32m/usr/local/lib/python3.6/dist-packages/valgrind/valgrind.py\u001b[0m in \u001b[0;36mrangecachegrind\u001b[0;34m(self, line, cell)\u001b[0m\n\u001b[1;32m    198\u001b[0m                     \u001b[0;32mfor\u001b[0m \u001b[0mk\u001b[0m \u001b[0;32min\u001b[0m \u001b[0mrange\u001b[0m\u001b[0;34m(\u001b[0m\u001b[0mlen\u001b[0m\u001b[0;34m(\u001b[0m\u001b[0mlines\u001b[0m\u001b[0;34m)\u001b[0m\u001b[0;34m)\u001b[0m\u001b[0;34m:\u001b[0m\u001b[0;34m\u001b[0m\u001b[0;34m\u001b[0m\u001b[0m\n\u001b[1;32m    199\u001b[0m                         \u001b[0margs\u001b[0m \u001b[0;34m=\u001b[0m \u001b[0;34m[\u001b[0m\u001b[0mdatacache\u001b[0m\u001b[0;34m[\u001b[0m\u001b[0mi\u001b[0m\u001b[0;34m]\u001b[0m\u001b[0;34m,\u001b[0m \u001b[0mways\u001b[0m\u001b[0;34m[\u001b[0m\u001b[0mj\u001b[0m\u001b[0;34m]\u001b[0m\u001b[0;34m,\u001b[0m \u001b[0mlines\u001b[0m\u001b[0;34m[\u001b[0m\u001b[0mk\u001b[0m\u001b[0;34m]\u001b[0m\u001b[0;34m]\u001b[0m\u001b[0;34m\u001b[0m\u001b[0;34m\u001b[0m\u001b[0m\n\u001b[0;32m--> 200\u001b[0;31m                         \u001b[0mself\u001b[0m\u001b[0;34m.\u001b[0m\u001b[0mexec_range_cache\u001b[0m\u001b[0;34m(\u001b[0m\u001b[0margs\u001b[0m\u001b[0;34m,\u001b[0m \u001b[0mresults\u001b[0m\u001b[0;34m)\u001b[0m\u001b[0;34m\u001b[0m\u001b[0;34m\u001b[0m\u001b[0m\n\u001b[0m\u001b[1;32m    201\u001b[0m             \u001b[0mself\u001b[0m\u001b[0;34m.\u001b[0m\u001b[0mprint_bar\u001b[0m\u001b[0;34m(\u001b[0m\u001b[0mdatacache\u001b[0m\u001b[0;34m,\u001b[0m \u001b[0mresults\u001b[0m\u001b[0;34m)\u001b[0m\u001b[0;34m\u001b[0m\u001b[0;34m\u001b[0m\u001b[0m\n\u001b[1;32m    202\u001b[0m \u001b[0;34m\u001b[0m\u001b[0m\n",
            "\u001b[0;32m/usr/local/lib/python3.6/dist-packages/valgrind/valgrind.py\u001b[0m in \u001b[0;36mexec_range_cache\u001b[0;34m(self, args, results)\u001b[0m\n\u001b[1;32m     65\u001b[0m         \u001b[0margs\u001b[0m \u001b[0;34m=\u001b[0m \u001b[0;34m[\u001b[0m\u001b[0;34m\"sh\"\u001b[0m\u001b[0;34m,\u001b[0m \u001b[0;34m\"/content/nvcc4jupyter/valgrind/execute.sh\"\u001b[0m\u001b[0;34m,\u001b[0m \u001b[0mv\u001b[0m\u001b[0;34m,\u001b[0m \u001b[0;34m''\u001b[0m\u001b[0;34m,\u001b[0m \u001b[0;34m''\u001b[0m\u001b[0;34m]\u001b[0m\u001b[0;34m\u001b[0m\u001b[0;34m\u001b[0m\u001b[0m\n\u001b[1;32m     66\u001b[0m \u001b[0;34m\u001b[0m\u001b[0m\n\u001b[0;32m---> 67\u001b[0;31m         \u001b[0moutput\u001b[0m \u001b[0;34m=\u001b[0m \u001b[0msubprocess\u001b[0m\u001b[0;34m.\u001b[0m\u001b[0mcheck_output\u001b[0m\u001b[0;34m(\u001b[0m\u001b[0margs\u001b[0m\u001b[0;34m,\u001b[0m \u001b[0mstderr\u001b[0m\u001b[0;34m=\u001b[0m\u001b[0msubprocess\u001b[0m\u001b[0;34m.\u001b[0m\u001b[0mSTDOUT\u001b[0m\u001b[0;34m)\u001b[0m\u001b[0;34m\u001b[0m\u001b[0;34m\u001b[0m\u001b[0m\n\u001b[0m\u001b[1;32m     68\u001b[0m         \u001b[0moutput\u001b[0m \u001b[0;34m=\u001b[0m \u001b[0moutput\u001b[0m\u001b[0;34m.\u001b[0m\u001b[0mdecode\u001b[0m\u001b[0;34m(\u001b[0m\u001b[0;34m'utf8'\u001b[0m\u001b[0;34m)\u001b[0m\u001b[0;34m\u001b[0m\u001b[0;34m\u001b[0m\u001b[0m\n\u001b[1;32m     69\u001b[0m \u001b[0;34m\u001b[0m\u001b[0m\n",
            "\u001b[0;32m/usr/lib/python3.6/subprocess.py\u001b[0m in \u001b[0;36mcheck_output\u001b[0;34m(timeout, *popenargs, **kwargs)\u001b[0m\n\u001b[1;32m    354\u001b[0m \u001b[0;34m\u001b[0m\u001b[0m\n\u001b[1;32m    355\u001b[0m     return run(*popenargs, stdout=PIPE, timeout=timeout, check=True,\n\u001b[0;32m--> 356\u001b[0;31m                **kwargs).stdout\n\u001b[0m\u001b[1;32m    357\u001b[0m \u001b[0;34m\u001b[0m\u001b[0m\n\u001b[1;32m    358\u001b[0m \u001b[0;34m\u001b[0m\u001b[0m\n",
            "\u001b[0;32m/usr/lib/python3.6/subprocess.py\u001b[0m in \u001b[0;36mrun\u001b[0;34m(input, timeout, check, *popenargs, **kwargs)\u001b[0m\n\u001b[1;32m    423\u001b[0m     \u001b[0;32mwith\u001b[0m \u001b[0mPopen\u001b[0m\u001b[0;34m(\u001b[0m\u001b[0;34m*\u001b[0m\u001b[0mpopenargs\u001b[0m\u001b[0;34m,\u001b[0m \u001b[0;34m**\u001b[0m\u001b[0mkwargs\u001b[0m\u001b[0;34m)\u001b[0m \u001b[0;32mas\u001b[0m \u001b[0mprocess\u001b[0m\u001b[0;34m:\u001b[0m\u001b[0;34m\u001b[0m\u001b[0;34m\u001b[0m\u001b[0m\n\u001b[1;32m    424\u001b[0m         \u001b[0;32mtry\u001b[0m\u001b[0;34m:\u001b[0m\u001b[0;34m\u001b[0m\u001b[0;34m\u001b[0m\u001b[0m\n\u001b[0;32m--> 425\u001b[0;31m             \u001b[0mstdout\u001b[0m\u001b[0;34m,\u001b[0m \u001b[0mstderr\u001b[0m \u001b[0;34m=\u001b[0m \u001b[0mprocess\u001b[0m\u001b[0;34m.\u001b[0m\u001b[0mcommunicate\u001b[0m\u001b[0;34m(\u001b[0m\u001b[0minput\u001b[0m\u001b[0;34m,\u001b[0m \u001b[0mtimeout\u001b[0m\u001b[0;34m=\u001b[0m\u001b[0mtimeout\u001b[0m\u001b[0;34m)\u001b[0m\u001b[0;34m\u001b[0m\u001b[0;34m\u001b[0m\u001b[0m\n\u001b[0m\u001b[1;32m    426\u001b[0m         \u001b[0;32mexcept\u001b[0m \u001b[0mTimeoutExpired\u001b[0m\u001b[0;34m:\u001b[0m\u001b[0;34m\u001b[0m\u001b[0;34m\u001b[0m\u001b[0m\n\u001b[1;32m    427\u001b[0m             \u001b[0mprocess\u001b[0m\u001b[0;34m.\u001b[0m\u001b[0mkill\u001b[0m\u001b[0;34m(\u001b[0m\u001b[0;34m)\u001b[0m\u001b[0;34m\u001b[0m\u001b[0;34m\u001b[0m\u001b[0m\n",
            "\u001b[0;32m/usr/lib/python3.6/subprocess.py\u001b[0m in \u001b[0;36mcommunicate\u001b[0;34m(self, input, timeout)\u001b[0m\n\u001b[1;32m    848\u001b[0m                 \u001b[0mself\u001b[0m\u001b[0;34m.\u001b[0m\u001b[0m_stdin_write\u001b[0m\u001b[0;34m(\u001b[0m\u001b[0minput\u001b[0m\u001b[0;34m)\u001b[0m\u001b[0;34m\u001b[0m\u001b[0;34m\u001b[0m\u001b[0m\n\u001b[1;32m    849\u001b[0m             \u001b[0;32melif\u001b[0m \u001b[0mself\u001b[0m\u001b[0;34m.\u001b[0m\u001b[0mstdout\u001b[0m\u001b[0;34m:\u001b[0m\u001b[0;34m\u001b[0m\u001b[0;34m\u001b[0m\u001b[0m\n\u001b[0;32m--> 850\u001b[0;31m                 \u001b[0mstdout\u001b[0m \u001b[0;34m=\u001b[0m \u001b[0mself\u001b[0m\u001b[0;34m.\u001b[0m\u001b[0mstdout\u001b[0m\u001b[0;34m.\u001b[0m\u001b[0mread\u001b[0m\u001b[0;34m(\u001b[0m\u001b[0;34m)\u001b[0m\u001b[0;34m\u001b[0m\u001b[0;34m\u001b[0m\u001b[0m\n\u001b[0m\u001b[1;32m    851\u001b[0m                 \u001b[0mself\u001b[0m\u001b[0;34m.\u001b[0m\u001b[0mstdout\u001b[0m\u001b[0;34m.\u001b[0m\u001b[0mclose\u001b[0m\u001b[0;34m(\u001b[0m\u001b[0;34m)\u001b[0m\u001b[0;34m\u001b[0m\u001b[0;34m\u001b[0m\u001b[0m\n\u001b[1;32m    852\u001b[0m             \u001b[0;32melif\u001b[0m \u001b[0mself\u001b[0m\u001b[0;34m.\u001b[0m\u001b[0mstderr\u001b[0m\u001b[0;34m:\u001b[0m\u001b[0;34m\u001b[0m\u001b[0;34m\u001b[0m\u001b[0m\n",
            "\u001b[0;31mKeyboardInterrupt\u001b[0m: "
          ]
        }
      ]
    },
    {
      "cell_type": "markdown",
      "metadata": {
        "id": "iOJHvvB8QVNi"
      },
      "source": [
        "# Tarefa\n",
        "\n",
        "Variando os valores da cache de dados, ways e a lines (Utilize criatividade para mostrar )"
      ]
    },
    {
      "cell_type": "code",
      "metadata": {
        "id": "hyzW0fi8MnnA",
        "colab": {
          "base_uri": "https://localhost:8080/",
          "height": 312
        },
        "outputId": "7a56c6a4-ba1f-419d-9fea-19ca5361ae96"
      },
      "source": [
        "%%rangecachegrind datacache=(1,2,4,8,16); ways=2; line=32; bargraph=(misses)\n",
        " \n",
        "//////////////////////////////////////////////\n",
        "// Fibonacci Otimizado 15 entradas////\n",
        "////////////////////////////////////////////\n",
        " \n",
        " \n",
        "#include <stdlib.h>\n",
        "#include <stdio.h>\n",
        " \n",
        "int fib(int n){\n",
        " \n",
        "  int i, fib1 = 1, fib2 = 1, soma;         \n",
        "  for (i = 3; i <= n; i = i + 1){\n",
        " \n",
        "    soma = fib1 + fib2;                    \n",
        "    fib1 = fib2;                           \n",
        "    fib2 = soma;  \n",
        " \n",
        "  }                                        \n",
        "     return fib2;                             \n",
        "}                                          \n",
        "   \n",
        "   \n",
        " int main(int argc, char const *argv[]){\n",
        "     int n;\n",
        "     int Fibo;\n",
        "     FILE *arquivo;\n",
        "     arquivo = fopen(\"Entrada_15.txt\",\"r\");\n",
        " \n",
        "     while (!feof(arquivo))\n",
        "     {\n",
        "        fscanf(arquivo,\"%d\\n\",&n);\n",
        "        Fibo = fib(n);\n",
        "        \n",
        "     }\n",
        "    getchar();\n",
        " \n",
        "    fclose(arquivo);\n",
        "    return 0; \n",
        " \n",
        "}"
      ],
      "execution_count": null,
      "outputs": [
        {
          "output_type": "stream",
          "text": [
            "\n"
          ],
          "name": "stdout"
        },
        {
          "output_type": "display_data",
          "data": {
            "image/png": "[encoded data removed]",
            "text/plain": [
              "<Figure size 432x288 with 1 Axes>"
            ]
          },
          "metadata": {
            "tags": [],
            "needs_background": "light"
          }
        }
      ]
    },
    {
      "cell_type": "code",
      "metadata": {
        "id": "PhgtsOBrPlB5",
        "colab": {
          "base_uri": "https://localhost:8080/",
          "height": 312
        },
        "outputId": "9590d44e-8baa-4238-c1be-c975cab01d70"
      },
      "source": [
        "%%rangecachegrind datacache=(1,2,4,8,16); ways=8; line=128; bargraph=(misses)\n",
        "\n",
        "///////////////////////////////////////////////\n",
        "// Fibonacci  Otimizado 15 entradas////\n",
        "/////////////////////////////////////////////\n",
        "\n",
        "\n",
        "#include <stdlib.h>\n",
        "#include <stdio.h>\n",
        "\n",
        "int fib(int n){\n",
        "\n",
        "  int i, fib1 = 1, fib2 = 1, soma;         \n",
        "  for (i = 3; i <= n; i = i + 1){\n",
        "\n",
        "    soma = fib1 + fib2;                    \n",
        "    fib1 = fib2;                           \n",
        "    fib2 = soma;  \n",
        "\n",
        "  }                                        \n",
        "     return fib2;                             \n",
        "}                                          \n",
        "   \n",
        "   \n",
        " int main(int argc, char const *argv[]){\n",
        "     int n;\n",
        "     int Fibo;\n",
        "     FILE *arquivo;\n",
        "     arquivo = fopen(\"Entrada_100.txt\",\"r\");\n",
        "\n",
        "     while (!feof(arquivo))\n",
        "     {\n",
        "        fscanf(arquivo,\"%d\\n\",&n);\n",
        "        Fibo = fib(n);\n",
        "        \n",
        "     }\n",
        "    getchar();\n",
        "\n",
        "    fclose(arquivo);\n",
        "    return 0; \n",
        "\n",
        "}"
      ],
      "execution_count": null,
      "outputs": [
        {
          "output_type": "stream",
          "text": [
            "\n"
          ],
          "name": "stdout"
        },
        {
          "output_type": "display_data",
          "data": {
            "image/png": "[encoded data removed]",
            "text/plain": [
              "<Figure size 432x288 with 1 Axes>"
            ]
          },
          "metadata": {
            "tags": [],
            "needs_background": "light"
          }
        }
      ]
    },
    {
      "cell_type": "code",
      "metadata": {
        "id": "UxeZpMxiPXd-",
        "colab": {
          "base_uri": "https://localhost:8080/",
          "height": 312
        },
        "outputId": "67255479-586c-4f8f-adf3-d00139e85a76"
      },
      "source": [
        "%%rangecachegrind datacache=(1,2,4,8,16); ways=4; line=64; bargraph=(misses)\n",
        "\n",
        "/////////////////////////////////////////////\n",
        "// Fibonacci Otimizado com 15 entradas ////\n",
        "///////////////////////////////////////////\n",
        "\n",
        "\n",
        "#include <stdlib.h>\n",
        "#include <stdio.h>\n",
        "\n",
        "int fib(int n){\n",
        "\n",
        "  int i, fib1 = 1, fib2 = 1, soma;         \n",
        "  for (i = 3; i <= n; i = i + 1){\n",
        "\n",
        "    soma = fib1 + fib2;                    \n",
        "    fib1 = fib2;                           \n",
        "    fib2 = soma;  \n",
        "\n",
        "  }                                        \n",
        "     return fib2;                             \n",
        "}                                          \n",
        "   \n",
        "   \n",
        " int main(int argc, char const *argv[]){\n",
        "     int n;\n",
        "     int Fibo;\n",
        "     FILE *arquivo;\n",
        "     arquivo = fopen(\"Entrada_100.txt\",\"r\");\n",
        "\n",
        "     while (!feof(arquivo))\n",
        "     {\n",
        "        fscanf(arquivo,\"%d\\n\",&n);\n",
        "        Fibo = fib(n);\n",
        "        \n",
        "     }\n",
        "    getchar();\n",
        "\n",
        "    fclose(arquivo);\n",
        "    return 0; \n",
        "\n",
        "}"
      ],
      "execution_count": null,
      "outputs": [
        {
          "output_type": "stream",
          "text": [
            "\n"
          ],
          "name": "stdout"
        },
        {
          "output_type": "display_data",
          "data": {
            "image/png": "[encoded data removed]",
            "text/plain": [
              "<Figure size 432x288 with 1 Axes>"
            ]
          },
          "metadata": {
            "tags": [],
            "needs_background": "light"
          }
        }
      ]
    },
    {
      "cell_type": "markdown",
      "metadata": {
        "id": "8LfSDbzjOJdG"
      },
      "source": [
        "# Explicação dos resultados"
      ]
    },
    {
      "cell_type": "markdown",
      "metadata": {
        "id": "-21co8wMjJvI"
      },
      "source": [
        "#Fibonacci otimizado 15 entradas:\n",
        "  Nesta parte mudamos a associatividade do bloco para os tamanhos 2, 4 e 8, sendo assim, foi possível variar os tamanhos da memória cache, as variações foram 32, 64 e 128. Diante disso, foi utilizado também o mesmo tamanho do bloco de palavras. Outrossim, é notório, segundo os gráficos gerados que quanto maior o tamanho de cache, menor a quantidade de misses."
      ]
    },
    {
      "cell_type": "markdown",
      "metadata": {
        "id": "p3gVO45VgMT3"
      },
      "source": [
        "#1º Gráfico\n",
        "![image.png](data:image/png;base64,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)\n",
        "datacache=(1,2,4,8,16); ways=2; line=32; bargraph=(misses)\n"
      ]
    },
    {
      "cell_type": "markdown",
      "metadata": {
        "id": "6CaczKV6i5Fe"
      },
      "source": [
        "#2º Gráfico \n",
        "![image.png](data:image/png;base64,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)\n",
        "datacache=(1,2,4,8,16); ways=8; line=128; bargraph=(misses)"
      ]
    },
    {
      "cell_type": "markdown",
      "metadata": {
        "id": "h0L0UjbpkAZ2"
      },
      "source": [
        "#3º Gráfico\n",
        "![image.png](data:image/png;base64,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)\n",
        "datacache=(1,2,4,8,16); ways=4; line=64; bargraph=(misses)"
      ]
    }
  ]
}